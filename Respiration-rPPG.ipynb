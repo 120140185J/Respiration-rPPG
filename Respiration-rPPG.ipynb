{
 "cells": [
  {
   "cell_type": "markdown",
   "metadata": {},
   "source": [
    "# Impor Pustaka yang Diperlukan\n",
    "Impor pustaka yang diperlukan seperti OpenCV, NumPy, dan Matplotlib."
   ]
  },
  {
   "cell_type": "code",
   "execution_count": 2,
   "metadata": {},
   "outputs": [],
   "source": [
    "# Impor pustaka yang diperlukan\n",
    "import cv2  # OpenCV untuk pengolahan video\n",
    "import numpy as np  # NumPy untuk operasi numerik\n",
    "import matplotlib.pyplot as plt  # Matplotlib untuk visualisasi"
   ]
  },
  {
   "cell_type": "markdown",
   "metadata": {},
   "source": [
    "# Inisialisasi Webcam\n",
    "Inisialisasi webcam untuk menangkap video secara real-time."
   ]
  },
  {
   "cell_type": "code",
   "execution_count": null,
   "metadata": {},
   "outputs": [
    {
     "name": "stdout",
     "output_type": "stream",
     "text": [
      "Webcam berhasil diinisialisasi.\n"
     ]
    }
   ],
   "source": [
    "# Inisialisasi Webcam\n",
    "\n",
    "# Membuka koneksi ke webcam (biasanya webcam internal memiliki ID 0)\n",
    "cap = cv2.VideoCapture(0)\n",
    "\n",
    "# Memeriksa apakah koneksi ke webcam berhasil\n",
    "if not cap.isOpened():\n",
    "    print(\"Error: Tidak dapat mengakses webcam.\")\n",
    "else:\n",
    "    print(\"Webcam berhasil diinisialisasi.\")\n",
    "\n",
    "# Membaca frame dari webcam\n",
    "ret, frame = cap.read()\n",
    "\n",
    "# Memeriksa apakah frame berhasil dibaca\n",
    "if not ret:\n",
    "    print(\"Error: Tidak dapat membaca frame dari webcam.\")\n",
    "else:\n",
    "    # Menampilkan frame pertama menggunakan OpenCV\n",
    "    cv2.imshow('Frame Pertama', frame)\n",
    "    cv2.waitKey(0)  # Menunggu input dari keyboard untuk melanjutkan\n",
    "    cv2.destroyAllWindows()\n",
    "\n",
    "# Melepaskan koneksi ke webcam\n",
    "cap.release()"
   ]
  },
  {
   "cell_type": "markdown",
   "metadata": {},
   "source": [
    "# Fungsi untuk Memproses Video\n",
    "Buat fungsi untuk memproses video yang diterima dari webcam."
   ]
  },
  {
   "cell_type": "code",
   "execution_count": null,
   "metadata": {},
   "outputs": [],
   "source": []
  },
  {
   "cell_type": "code",
   "execution_count": 6,
   "metadata": {},
   "outputs": [
    {
     "ename": "KeyboardInterrupt",
     "evalue": "",
     "output_type": "error",
     "traceback": [
      "\u001b[1;31m---------------------------------------------------------------------------\u001b[0m",
      "\u001b[1;31mKeyboardInterrupt\u001b[0m                         Traceback (most recent call last)",
      "Cell \u001b[1;32mIn[6], line 35\u001b[0m\n\u001b[0;32m     32\u001b[0m     cv2\u001b[38;5;241m.\u001b[39mdestroyAllWindows()\n\u001b[0;32m     34\u001b[0m \u001b[38;5;66;03m# Memanggil fungsi untuk memproses video\u001b[39;00m\n\u001b[1;32m---> 35\u001b[0m \u001b[43mproses_video\u001b[49m\u001b[43m(\u001b[49m\u001b[43m)\u001b[49m\n",
      "Cell \u001b[1;32mIn[6], line 27\u001b[0m, in \u001b[0;36mproses_video\u001b[1;34m()\u001b[0m\n\u001b[0;32m     24\u001b[0m     cv2\u001b[38;5;241m.\u001b[39mimshow(\u001b[38;5;124m'\u001b[39m\u001b[38;5;124mVideo\u001b[39m\u001b[38;5;124m'\u001b[39m, frame)\n\u001b[0;32m     26\u001b[0m     \u001b[38;5;66;03m# Keluar dari loop jika tombol 'q' ditekan\u001b[39;00m\n\u001b[1;32m---> 27\u001b[0m     \u001b[38;5;28;01mif\u001b[39;00m \u001b[43mcv2\u001b[49m\u001b[38;5;241;43m.\u001b[39;49m\u001b[43mwaitKey\u001b[49m\u001b[43m(\u001b[49m\u001b[38;5;241;43m1\u001b[39;49m\u001b[43m)\u001b[49m \u001b[38;5;241m&\u001b[39m \u001b[38;5;241m0xFF\u001b[39m \u001b[38;5;241m==\u001b[39m \u001b[38;5;28mord\u001b[39m(\u001b[38;5;124m'\u001b[39m\u001b[38;5;124mq\u001b[39m\u001b[38;5;124m'\u001b[39m):\n\u001b[0;32m     28\u001b[0m         \u001b[38;5;28;01mbreak\u001b[39;00m\n\u001b[0;32m     30\u001b[0m \u001b[38;5;66;03m# Melepaskan koneksi ke webcam dan menutup jendela\u001b[39;00m\n",
      "\u001b[1;31mKeyboardInterrupt\u001b[0m: "
     ]
    },
    {
     "ename": "",
     "evalue": "",
     "output_type": "error",
     "traceback": [
      "\u001b[1;31mThe Kernel crashed while executing code in the current cell or a previous cell. \n",
      "\u001b[1;31mPlease review the code in the cell(s) to identify a possible cause of the failure. \n",
      "\u001b[1;31mClick <a href='https://aka.ms/vscodeJupyterKernelCrash'>here</a> for more info. \n",
      "\u001b[1;31mView Jupyter <a href='command:jupyter.viewOutput'>log</a> for further details."
     ]
    }
   ],
   "source": [
    "# Fungsi untuk memproses video dari webcam\n",
    "def proses_video():\n",
    "    # Membuka koneksi ke webcam\n",
    "    cap = cv2.VideoCapture(0)\n",
    "    \n",
    "    # Memeriksa apakah koneksi ke webcam berhasil\n",
    "    if not cap.isOpened():\n",
    "        print(\"Error: Tidak dapat mengakses webcam.\")\n",
    "        return\n",
    "    \n",
    "    while True:\n",
    "        # Membaca frame dari webcam\n",
    "        ret, frame = cap.read()\n",
    "        \n",
    "        # Memeriksa apakah frame berhasil dibaca\n",
    "        if not ret:\n",
    "            print(\"Error: Tidak dapat membaca frame dari webcam.\")\n",
    "            break\n",
    "        \n",
    "        # Proses sinyal respirasi dan rPPG di sini\n",
    "        # (Placeholder untuk pengolahan sinyal)\n",
    "        \n",
    "        # Menampilkan frame yang diproses\n",
    "        cv2.imshow('Video', frame)\n",
    "        \n",
    "        # Keluar dari loop jika tombol 'q' ditekan\n",
    "        if cv2.waitKey(1) & 0xFF == ord('q'):\n",
    "            break\n",
    "    \n",
    "    # Melepaskan koneksi ke webcam dan menutup jendela\n",
    "    cap.release()\n",
    "    cv2.destroyAllWindows()\n",
    "\n",
    "# Memanggil fungsi untuk memproses video\n",
    "proses_video()"
   ]
  },
  {
   "cell_type": "markdown",
   "metadata": {},
   "source": [
    "# Ekstraksi Sinyal Respirasi\n",
    "Buat fungsi untuk mengekstraksi sinyal respirasi dari video yang diproses."
   ]
  },
  {
   "cell_type": "code",
   "execution_count": null,
   "metadata": {},
   "outputs": [],
   "source": [
    "# Fungsi untuk mengekstraksi sinyal respirasi dari video yang diproses\n",
    "def ekstraksi_sinyal_respirasi(video_path):\n",
    "    # Membuka koneksi ke video\n",
    "    cap = cv2.VideoCapture(video_path)\n",
    "    \n",
    "    # Memeriksa apakah koneksi ke video berhasil\n",
    "    if not cap.isOpened():\n",
    "        print(\"Error: Tidak dapat mengakses video.\")\n",
    "        return\n",
    "    \n",
    "    # Inisialisasi variabel untuk menyimpan sinyal respirasi\n",
    "    sinyal_respirasi = []\n",
    "    \n",
    "    while True:\n",
    "        # Membaca frame dari video\n",
    "        ret, frame = cap.read()\n",
    "        \n",
    "        # Memeriksa apakah frame berhasil dibaca\n",
    "        if not ret:\n",
    "            break\n",
    "        \n",
    "        # Konversi frame ke grayscale\n",
    "        gray = cv2.cvtColor(frame, cv2.COLOR_BGR2GRAY)\n",
    "        \n",
    "        # Ekstraksi sinyal respirasi dari frame grayscale\n",
    "        # (Placeholder untuk algoritma ekstraksi sinyal respirasi)\n",
    "        # Misalnya, kita bisa menggunakan perubahan intensitas rata-rata sebagai sinyal respirasi\n",
    "        intensitas_rata2 = np.mean(gray)\n",
    "        sinyal_respirasi.append(intensitas_rata2)\n",
    "    \n",
    "    # Melepaskan koneksi ke video\n",
    "    cap.release()\n",
    "    \n",
    "    # Mengembalikan sinyal respirasi yang diekstraksi\n",
    "    return sinyal_respirasi\n",
    "\n",
    "# Contoh penggunaan fungsi ekstraksi sinyal respirasi\n",
    "video_path = 'path_to_video.mp4'  # Ganti dengan path ke video yang ingin diproses\n",
    "sinyal_respirasi = ekstraksi_sinyal_respirasi(video_path)\n",
    "\n",
    "# Visualisasi sinyal respirasi menggunakan Matplotlib\n",
    "plt.plot(sinyal_respirasi)\n",
    "plt.title('Sinyal Respirasi')\n",
    "plt.xlabel('Frame')\n",
    "plt.ylabel('Intensitas Rata-rata')\n",
    "plt.show()"
   ]
  },
  {
   "cell_type": "markdown",
   "metadata": {},
   "source": [
    "# Ekstraksi Sinyal rPPG\n",
    "Buat fungsi untuk mengekstraksi sinyal rPPG dari video yang diproses."
   ]
  },
  {
   "cell_type": "code",
   "execution_count": null,
   "metadata": {},
   "outputs": [],
   "source": [
    "# Fungsi untuk mengekstraksi sinyal rPPG dari video yang diproses\n",
    "def ekstraksi_sinyal_rppg(video_path):\n",
    "    # Membuka koneksi ke video\n",
    "    cap = cv2.VideoCapture(video_path)\n",
    "    \n",
    "    # Memeriksa apakah koneksi ke video berhasil\n",
    "    if not cap.isOpened():\n",
    "        print(\"Error: Tidak dapat mengakses video.\")\n",
    "        return\n",
    "    \n",
    "    # Inisialisasi variabel untuk menyimpan sinyal rPPG\n",
    "    sinyal_rppg = []\n",
    "    \n",
    "    while True:\n",
    "        # Membaca frame dari video\n",
    "        ret, frame = cap.read()\n",
    "        \n",
    "        # Memeriksa apakah frame berhasil dibaca\n",
    "        if not ret:\n",
    "            break\n",
    "        \n",
    "        # Konversi frame ke ruang warna YCrCb\n",
    "        ycrcb = cv2.cvtColor(frame, cv2.COLOR_BGR2YCrCb)\n",
    "        \n",
    "        # Ekstraksi komponen Cr (Chrominance Red)\n",
    "        cr = ycrcb[:, :, 1]\n",
    "        \n",
    "        # Ekstraksi sinyal rPPG dari komponen Cr\n",
    "        # Misalnya, kita bisa menggunakan perubahan intensitas rata-rata sebagai sinyal rPPG\n",
    "        intensitas_rata2 = np.mean(cr)\n",
    "        sinyal_rppg.append(intensitas_rata2)\n",
    "    \n",
    "    # Melepaskan koneksi ke video\n",
    "    cap.release()\n",
    "    \n",
    "    # Mengembalikan sinyal rPPG yang diekstraksi\n",
    "    return sinyal_rppg\n",
    "\n",
    "# Contoh penggunaan fungsi ekstraksi sinyal rPPG\n",
    "video_path = 'path_to_video.mp4'  # Ganti dengan path ke video yang ingin diproses\n",
    "sinyal_rppg = ekstraksi_sinyal_rppg(video_path)\n",
    "\n",
    "# Visualisasi sinyal rPPG menggunakan Matplotlib\n",
    "plt.plot(sinyal_rppg)\n",
    "plt.title('Sinyal rPPG')\n",
    "plt.xlabel('Frame')\n",
    "plt.ylabel('Intensitas Rata-rata')\n",
    "plt.show()"
   ]
  },
  {
   "cell_type": "markdown",
   "metadata": {},
   "source": [
    "# Visualisasi Sinyal Respirasi dan rPPG\n",
    "Visualisasikan sinyal respirasi dan rPPG menggunakan Matplotlib dan/atau OpenCV."
   ]
  },
  {
   "cell_type": "code",
   "execution_count": null,
   "metadata": {},
   "outputs": [],
   "source": [
    "# Visualisasi Sinyal Respirasi dan rPPG\n",
    "\n",
    "# Fungsi untuk visualisasi sinyal respirasi dan rPPG secara bersamaan\n",
    "def visualisasi_sinyal(sinyal_respirasi, sinyal_rppg):\n",
    "    # Membuat figure dan axis untuk plot\n",
    "    fig, ax1 = plt.subplots()\n",
    "\n",
    "    # Plot sinyal respirasi\n",
    "    color = 'tab:blue'\n",
    "    ax1.set_xlabel('Frame')\n",
    "    ax1.set_ylabel('Sinyal Respirasi', color=color)\n",
    "    ax1.plot(sinyal_respirasi, color=color)\n",
    "    ax1.tick_params(axis='y', labelcolor=color)\n",
    "\n",
    "    # Membuat axis kedua untuk sinyal rPPG\n",
    "    ax2 = ax1.twinx()\n",
    "    color = 'tab:red'\n",
    "    ax2.set_ylabel('Sinyal rPPG', color=color)\n",
    "    ax2.plot(sinyal_rppg, color=color)\n",
    "    ax2.tick_params(axis='y', labelcolor=color)\n",
    "\n",
    "    # Menambahkan judul dan menampilkan plot\n",
    "    plt.title('Visualisasi Sinyal Respirasi dan rPPG')\n",
    "    fig.tight_layout()\n",
    "    plt.show()\n",
    "\n",
    "# Contoh penggunaan fungsi visualisasi sinyal\n",
    "visualisasi_sinyal(sinyal_respirasi, sinyal_rppg)"
   ]
  }
 ],
 "metadata": {
  "kernelspec": {
   "display_name": "Python 3",
   "language": "python",
   "name": "python3"
  },
  "language_info": {
   "codemirror_mode": {
    "name": "ipython",
    "version": 3
   },
   "file_extension": ".py",
   "mimetype": "text/x-python",
   "name": "python",
   "nbconvert_exporter": "python",
   "pygments_lexer": "ipython3",
   "version": "3.10.11"
  }
 },
 "nbformat": 4,
 "nbformat_minor": 2
}
